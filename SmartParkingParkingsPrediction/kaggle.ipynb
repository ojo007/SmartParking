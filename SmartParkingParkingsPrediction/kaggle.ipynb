{
 "cells": [
  {
   "cell_type": "code",
   "execution_count": 44,
   "id": "1c6c1d18-6ecb-47e9-93f6-fedfa43d1186",
   "metadata": {},
   "outputs": [],
   "source": [
    "import kaggle\n",
    "from kaggle.api.kaggle_api_extended import KaggleApi"
   ]
  },
  {
   "cell_type": "code",
   "execution_count": 45,
   "id": "92ca7270-946d-4d3f-bb11-337a649b520f",
   "metadata": {},
   "outputs": [],
   "source": [
    "api = KaggleApi()\n",
    "api.authenticate()"
   ]
  },
  {
   "cell_type": "code",
   "execution_count": 46,
   "id": "bea6b0c5-6728-4ce3-8076-2c9694048b49",
   "metadata": {},
   "outputs": [
    {
     "name": "stdout",
     "output_type": "stream",
     "text": [
      "ref                                                            title                                               size  lastUpdated          downloadCount  voteCount  usabilityRating  \n",
      "-------------------------------------------------------------  -------------------------------------------------  -----  -------------------  -------------  ---------  ---------------  \n",
      "new-york-city/nyc-parking-tickets                              NYC Parking Tickets                                  2GB  2020-05-10 21:42:31          18351        238  0.8235294        \n",
      "cityofLA/los-angeles-parking-citations                         Los Angeles Parking Citations                      394MB  2021-07-16 01:21:22           7618        227  0.7058824        \n",
      "mfaisalqureshi/parking                                         US Parking Data                                     41KB  2021-06-17 05:22:51            369         31  0.9411765        \n",
      "arcgisopendata/dc-parking-violations                           Parking Violations, December 2015                    6MB  2016-11-30 15:26:15            565         19  0.5882353        \n",
      "mnabaee/mtlstreetparking                                       Montreal Street Parking                             27MB  2019-11-18 04:07:19            309         10  0.7058824        \n",
      "blanderbuss/parking-lot-dataset                                Parking Lot Dataset                                 10GB  2018-12-05 18:08:32           2004         55  0.3125           \n",
      "new-york-city/ny-parking-violations-issued                     NY Parking Violations Issued                       939MB  2019-12-02 21:57:22           1552         33  0.7058824        \n",
      "jessemostipak/hotel-booking-demand                             Hotel booking demand                                 1MB  2020-02-13 01:27:20          81814       1890  1.0              \n",
      "terenceshin/searching-for-parking-statistics-in-north-america  Parking Statistics in North America                921KB  2020-10-17 17:18:04            264         14  0.9411765        \n",
      "mokar2001/house-price-tehran-iran                              House Price (Tehran, Iran)                          31KB  2021-09-06 08:00:48           1466         52  1.0              \n",
      "mathurinache/san-francisco-parking-sign-detection              San Francisco Parking Sign Detection               274MB  2020-09-05 13:33:50            320         20  0.8235294        \n",
      "mypapit/klccparking                                            KLCC Parking Occupancy  2016                       196KB  2017-11-25 16:09:02            373         17  0.6875           \n",
      "somesnm/partynyc                                               2016 Parties in New York                            14MB  2017-08-23 16:35:39           4893        151  0.85294116       \n",
      "jackywang529/toronto-bikeshare-data                            Toronto Bikeshare Data                              58MB  2020-02-04 19:21:42           2636         53  0.7058824        \n",
      "b'eisgandar/new-york-state-traffic-and-parking-regulations       \\xf0\\x9f\\x8c\\x86 New York State (School, Traffic, Parking -2022)   29MB  2022-06-06 11:52:58            156         27  0.8235294        '\n",
      "junholv/parking-de-lyon                                        Parking De Lyon                                     48KB  2019-03-09 17:25:53             96          3  0.7058824        \n",
      "alincijov/montreal-parking-hours-per-streetsign                Montreal Parking Hours per Street/Sign              30MB  2020-05-02 17:09:36             45         22  0.5294118        \n",
      "oreojam/fixed-enforcement-camera-of-seoul-south-korea          Fixed enforcement camera of Seoul, South Korea     461KB  2021-05-19 05:37:33             96         10  0.7058824        \n",
      "rounak041993/traffic-violations-in-maryland-county             Traffic Violations in Maryland County               60MB  2018-05-09 17:09:45           2601         56  0.7647059        \n",
      "ipythonx/pklotdbs                                              Parking Lot Database                                 5GB  2022-08-27 08:02:28              5          4  0.75             \n"
     ]
    }
   ],
   "source": [
    "!kaggle datasets list -s 'parking'"
   ]
  },
  {
   "cell_type": "code",
   "execution_count": 47,
   "id": "5df22428-9487-4a1a-a54b-2c642107a7a1",
   "metadata": {},
   "outputs": [],
   "source": [
    "api.dataset_download_files(\"mypapit/klccparking\")"
   ]
  },
  {
   "cell_type": "code",
   "execution_count": 48,
   "id": "258e5fe0-92ef-4503-94f0-935d0f65bb48",
   "metadata": {},
   "outputs": [],
   "source": [
    "import zipfile"
   ]
  },
  {
   "cell_type": "code",
   "execution_count": 49,
   "id": "47464611-e14e-4979-b082-049243c01bc4",
   "metadata": {},
   "outputs": [],
   "source": [
    "with zipfile.ZipFile('klccparking.zip', 'r') as zipref:\n",
    "    zipref.extractall()"
   ]
  },
  {
   "cell_type": "code",
   "execution_count": 28,
   "id": "a721e2bf-cb01-40fa-aa77-df16e6dfd6e0",
   "metadata": {},
   "outputs": [],
   "source": [
    "import os\n",
    "import datetime\n",
    "\n",
    "import IPython\n",
    "import IPython.display\n",
    "import matplotlib as mpl\n",
    "import matplotlib.pyplot as plt\n",
    "import numpy as np\n",
    "import pandas as pd\n",
    "import seaborn as sns\n",
    "import tensorflow as tf\n",
    "\n",
    "mpl.rcParams['figure.figsize'] = (8, 6)\n",
    "mpl.rcParams['axes.grid'] = False"
   ]
  },
  {
   "cell_type": "code",
   "execution_count": 50,
   "id": "71be472a-29e2-4061-bb8f-38308cd819ff",
   "metadata": {},
   "outputs": [
    {
     "data": {
      "text/html": [
       "<div>\n",
       "<style scoped>\n",
       "    .dataframe tbody tr th:only-of-type {\n",
       "        vertical-align: middle;\n",
       "    }\n",
       "\n",
       "    .dataframe tbody tr th {\n",
       "        vertical-align: top;\n",
       "    }\n",
       "\n",
       "    .dataframe thead th {\n",
       "        text-align: right;\n",
       "    }\n",
       "</style>\n",
       "<table border=\"1\" class=\"dataframe\">\n",
       "  <thead>\n",
       "    <tr style=\"text-align: right;\">\n",
       "      <th></th>\n",
       "      <th>KLCC;1642;2016-06-01 10:12:37</th>\n",
       "    </tr>\n",
       "  </thead>\n",
       "  <tbody>\n",
       "    <tr>\n",
       "      <th>0</th>\n",
       "      <td>KLCC;1609;2016-06-01 10:15:05</td>\n",
       "    </tr>\n",
       "    <tr>\n",
       "      <th>1</th>\n",
       "      <td>KLCC;1458;2016-06-01 10:30:05</td>\n",
       "    </tr>\n",
       "    <tr>\n",
       "      <th>2</th>\n",
       "      <td>KLCC;1357;2016-06-01 10:45:04</td>\n",
       "    </tr>\n",
       "    <tr>\n",
       "      <th>3</th>\n",
       "      <td>KLCC;1235;2016-06-01 11:00:06</td>\n",
       "    </tr>\n",
       "    <tr>\n",
       "      <th>4</th>\n",
       "      <td>KLCC;1076;2016-06-01 11:15:04</td>\n",
       "    </tr>\n",
       "  </tbody>\n",
       "</table>\n",
       "</div>"
      ],
      "text/plain": [
       "   KLCC;1642;2016-06-01 10:12:37\n",
       "0  KLCC;1609;2016-06-01 10:15:05\n",
       "1  KLCC;1458;2016-06-01 10:30:05\n",
       "2  KLCC;1357;2016-06-01 10:45:04\n",
       "3  KLCC;1235;2016-06-01 11:00:06\n",
       "4  KLCC;1076;2016-06-01 11:15:04"
      ]
     },
     "execution_count": 50,
     "metadata": {},
     "output_type": "execute_result"
    }
   ],
   "source": [
    "df1 = pd.read_csv('parking-klcc-2016-2017.txt')\n",
    "df1.head()"
   ]
  },
  {
   "cell_type": "code",
   "execution_count": 51,
   "id": "afc2f796-3079-4543-94c9-e603e437ebb3",
   "metadata": {},
   "outputs": [],
   "source": [
    "import csv"
   ]
  },
  {
   "cell_type": "code",
   "execution_count": 52,
   "id": "31199d89-fca5-47ed-84f4-0516c0e2ff91",
   "metadata": {},
   "outputs": [],
   "source": [
    "text = open(\"parking-klcc-2016-2017.txt\", \"r\")\n",
    "text = ''.join([i for i in text]) \\\n",
    "    .replace(\"OPEN\", \"NaN\")\n",
    "x = open(\"output1.txt\",\"w\")\n",
    "x.writelines(text)\n",
    "x.close()"
   ]
  },
  {
   "cell_type": "code",
   "execution_count": 53,
   "id": "5def8774-394d-48b4-b93b-72737b749483",
   "metadata": {},
   "outputs": [],
   "source": [
    "text = open(\"output1.txt\", \"r\")\n",
    "text = ''.join([i for i in text]) \\\n",
    "    .replace(\"FULL\", \"5500\")\n",
    "x = open(\"output2.txt\",\"w\")\n",
    "x.writelines(text)\n",
    "x.close()"
   ]
  },
  {
   "cell_type": "code",
   "execution_count": 54,
   "id": "d8934653-c2ca-4fa9-905a-3f4f01bb5e9c",
   "metadata": {},
   "outputs": [],
   "source": [
    "with open('output2.txt', 'r') as in_file:\n",
    "    stripped = (line.strip() for line in in_file)\n",
    "    lines = (line.split(\";\") for line in stripped if line)\n",
    "    with open('parking-klcc-2016-2017.csv', 'w') as out_file:\n",
    "        writer = csv.writer(out_file)\n",
    "        writer.writerow(('id', 'spaces', 'updatedon'))\n",
    "        writer.writerows(lines)"
   ]
  },
  {
   "cell_type": "code",
   "execution_count": 55,
   "id": "476bd51f-e82e-4705-93ca-16de6881198d",
   "metadata": {},
   "outputs": [
    {
     "data": {
      "text/html": [
       "<div>\n",
       "<style scoped>\n",
       "    .dataframe tbody tr th:only-of-type {\n",
       "        vertical-align: middle;\n",
       "    }\n",
       "\n",
       "    .dataframe tbody tr th {\n",
       "        vertical-align: top;\n",
       "    }\n",
       "\n",
       "    .dataframe thead th {\n",
       "        text-align: right;\n",
       "    }\n",
       "</style>\n",
       "<table border=\"1\" class=\"dataframe\">\n",
       "  <thead>\n",
       "    <tr style=\"text-align: right;\">\n",
       "      <th></th>\n",
       "      <th>id</th>\n",
       "      <th>spaces</th>\n",
       "      <th>updatedon</th>\n",
       "    </tr>\n",
       "  </thead>\n",
       "  <tbody>\n",
       "    <tr>\n",
       "      <th>0</th>\n",
       "      <td>KLCC</td>\n",
       "      <td>1642.0</td>\n",
       "      <td>2016-06-01 10:12:37</td>\n",
       "    </tr>\n",
       "    <tr>\n",
       "      <th>1</th>\n",
       "      <td>KLCC</td>\n",
       "      <td>1609.0</td>\n",
       "      <td>2016-06-01 10:15:05</td>\n",
       "    </tr>\n",
       "    <tr>\n",
       "      <th>2</th>\n",
       "      <td>KLCC</td>\n",
       "      <td>1458.0</td>\n",
       "      <td>2016-06-01 10:30:05</td>\n",
       "    </tr>\n",
       "    <tr>\n",
       "      <th>3</th>\n",
       "      <td>KLCC</td>\n",
       "      <td>1357.0</td>\n",
       "      <td>2016-06-01 10:45:04</td>\n",
       "    </tr>\n",
       "    <tr>\n",
       "      <th>4</th>\n",
       "      <td>KLCC</td>\n",
       "      <td>1235.0</td>\n",
       "      <td>2016-06-01 11:00:06</td>\n",
       "    </tr>\n",
       "  </tbody>\n",
       "</table>\n",
       "</div>"
      ],
      "text/plain": [
       "     id  spaces            updatedon\n",
       "0  KLCC  1642.0  2016-06-01 10:12:37\n",
       "1  KLCC  1609.0  2016-06-01 10:15:05\n",
       "2  KLCC  1458.0  2016-06-01 10:30:05\n",
       "3  KLCC  1357.0  2016-06-01 10:45:04\n",
       "4  KLCC  1235.0  2016-06-01 11:00:06"
      ]
     },
     "execution_count": 55,
     "metadata": {},
     "output_type": "execute_result"
    }
   ],
   "source": [
    "#reading the parking_details dataset file\n",
    "df = pd.read_csv('parking-klcc-2016-2017.csv')\n",
    "df.head()"
   ]
  },
  {
   "cell_type": "code",
   "execution_count": 96,
   "id": "c99c1f11-722f-48b4-b1ed-8add4f6d82f7",
   "metadata": {},
   "outputs": [
    {
     "data": {
      "text/plain": [
       "spaces    0\n",
       "dtype: int64"
      ]
     },
     "execution_count": 96,
     "metadata": {},
     "output_type": "execute_result"
    }
   ],
   "source": [
    "df.isnull().sum()"
   ]
  },
  {
   "cell_type": "code",
   "execution_count": 99,
   "id": "96cdd261-155c-4954-b509-bccd1dd51e85",
   "metadata": {},
   "outputs": [
    {
     "data": {
      "text/plain": [
       "<seaborn.axisgrid.FacetGrid at 0x15785f7b0a0>"
      ]
     },
     "execution_count": 99,
     "metadata": {},
     "output_type": "execute_result"
    },
    {
     "data": {
      "image/png": "[encoded data removed]",
      "text/plain": [
       "<Figure size 576x576 with 1 Axes>"
      ]
     },
     "metadata": {
      "needs_background": "light"
     },
     "output_type": "display_data"
    },
    {
     "data": {
      "image/png": "[encoded data removed]",
      "text/plain": [
       "<Figure size 360x360 with 1 Axes>"
      ]
     },
     "metadata": {
      "needs_background": "light"
     },
     "output_type": "display_data"
    }
   ],
   "source": [
    "fig, ax = plt.subplots(figsize=(8,8))\n",
    "sns.displot(df.spaces)"
   ]
  },
  {
   "cell_type": "code",
   "execution_count": 65,
   "id": "da3606e7-9467-4def-aaf0-54f9c05c4810",
   "metadata": {},
   "outputs": [],
   "source": [
    "df['spaces'].fillna(df['spaces'].mean(),inplace=True)"
   ]
  },
  {
   "cell_type": "code",
   "execution_count": 66,
   "id": "3771baa3-359d-4b52-b7c3-cbc347f0d180",
   "metadata": {},
   "outputs": [
    {
     "data": {
      "text/plain": [
       "id           False\n",
       "spaces       False\n",
       "updatedon    False\n",
       "dtype: bool"
      ]
     },
     "execution_count": 66,
     "metadata": {},
     "output_type": "execute_result"
    }
   ],
   "source": [
    "df.isnull().any()"
   ]
  },
  {
   "cell_type": "code",
   "execution_count": 67,
   "id": "c17a29d0-2686-4bd5-baf2-02c2b072fb31",
   "metadata": {},
   "outputs": [
    {
     "data": {
      "text/html": [
       "<div>\n",
       "<style scoped>\n",
       "    .dataframe tbody tr th:only-of-type {\n",
       "        vertical-align: middle;\n",
       "    }\n",
       "\n",
       "    .dataframe tbody tr th {\n",
       "        vertical-align: top;\n",
       "    }\n",
       "\n",
       "    .dataframe thead th {\n",
       "        text-align: right;\n",
       "    }\n",
       "</style>\n",
       "<table border=\"1\" class=\"dataframe\">\n",
       "  <thead>\n",
       "    <tr style=\"text-align: right;\">\n",
       "      <th></th>\n",
       "      <th>id</th>\n",
       "      <th>spaces</th>\n",
       "      <th>updatedon</th>\n",
       "    </tr>\n",
       "  </thead>\n",
       "  <tbody>\n",
       "    <tr>\n",
       "      <th>0</th>\n",
       "      <td>KLCC</td>\n",
       "      <td>1642.000000</td>\n",
       "      <td>2016-06-01 10:12:37</td>\n",
       "    </tr>\n",
       "    <tr>\n",
       "      <th>1</th>\n",
       "      <td>KLCC</td>\n",
       "      <td>1609.000000</td>\n",
       "      <td>2016-06-01 10:15:05</td>\n",
       "    </tr>\n",
       "    <tr>\n",
       "      <th>2</th>\n",
       "      <td>KLCC</td>\n",
       "      <td>1458.000000</td>\n",
       "      <td>2016-06-01 10:30:05</td>\n",
       "    </tr>\n",
       "    <tr>\n",
       "      <th>3</th>\n",
       "      <td>KLCC</td>\n",
       "      <td>1357.000000</td>\n",
       "      <td>2016-06-01 10:45:04</td>\n",
       "    </tr>\n",
       "    <tr>\n",
       "      <th>4</th>\n",
       "      <td>KLCC</td>\n",
       "      <td>1235.000000</td>\n",
       "      <td>2016-06-01 11:00:06</td>\n",
       "    </tr>\n",
       "    <tr>\n",
       "      <th>...</th>\n",
       "      <td>...</td>\n",
       "      <td>...</td>\n",
       "      <td>...</td>\n",
       "    </tr>\n",
       "    <tr>\n",
       "      <th>47600</th>\n",
       "      <td>KLCC</td>\n",
       "      <td>3472.484771</td>\n",
       "      <td>2017-11-15 07:30:02</td>\n",
       "    </tr>\n",
       "    <tr>\n",
       "      <th>47601</th>\n",
       "      <td>KLCC</td>\n",
       "      <td>3472.484771</td>\n",
       "      <td>2017-11-15 07:45:03</td>\n",
       "    </tr>\n",
       "    <tr>\n",
       "      <th>47602</th>\n",
       "      <td>KLCC</td>\n",
       "      <td>3472.484771</td>\n",
       "      <td>2017-11-15 08:00:03</td>\n",
       "    </tr>\n",
       "    <tr>\n",
       "      <th>47603</th>\n",
       "      <td>KLCC</td>\n",
       "      <td>3472.484771</td>\n",
       "      <td>2017-11-15 08:15:02</td>\n",
       "    </tr>\n",
       "    <tr>\n",
       "      <th>47604</th>\n",
       "      <td>KLCC</td>\n",
       "      <td>3472.484771</td>\n",
       "      <td>2017-11-15 08:30:03</td>\n",
       "    </tr>\n",
       "  </tbody>\n",
       "</table>\n",
       "<p>47605 rows × 3 columns</p>\n",
       "</div>"
      ],
      "text/plain": [
       "         id       spaces            updatedon\n",
       "0      KLCC  1642.000000  2016-06-01 10:12:37\n",
       "1      KLCC  1609.000000  2016-06-01 10:15:05\n",
       "2      KLCC  1458.000000  2016-06-01 10:30:05\n",
       "3      KLCC  1357.000000  2016-06-01 10:45:04\n",
       "4      KLCC  1235.000000  2016-06-01 11:00:06\n",
       "...     ...          ...                  ...\n",
       "47600  KLCC  3472.484771  2017-11-15 07:30:02\n",
       "47601  KLCC  3472.484771  2017-11-15 07:45:03\n",
       "47602  KLCC  3472.484771  2017-11-15 08:00:03\n",
       "47603  KLCC  3472.484771  2017-11-15 08:15:02\n",
       "47604  KLCC  3472.484771  2017-11-15 08:30:03\n",
       "\n",
       "[47605 rows x 3 columns]"
      ]
     },
     "execution_count": 67,
     "metadata": {},
     "output_type": "execute_result"
    }
   ],
   "source": [
    "df"
   ]
  },
  {
   "cell_type": "code",
   "execution_count": 68,
   "id": "4fc91407-e9b9-4fa6-9d15-a5326f8505df",
   "metadata": {},
   "outputs": [
    {
     "data": {
      "text/html": [
       "<div>\n",
       "<style scoped>\n",
       "    .dataframe tbody tr th:only-of-type {\n",
       "        vertical-align: middle;\n",
       "    }\n",
       "\n",
       "    .dataframe tbody tr th {\n",
       "        vertical-align: top;\n",
       "    }\n",
       "\n",
       "    .dataframe thead th {\n",
       "        text-align: right;\n",
       "    }\n",
       "</style>\n",
       "<table border=\"1\" class=\"dataframe\">\n",
       "  <thead>\n",
       "    <tr style=\"text-align: right;\">\n",
       "      <th></th>\n",
       "      <th>spaces</th>\n",
       "    </tr>\n",
       "  </thead>\n",
       "  <tbody>\n",
       "    <tr>\n",
       "      <th>0</th>\n",
       "      <td>1642.0</td>\n",
       "    </tr>\n",
       "    <tr>\n",
       "      <th>1</th>\n",
       "      <td>1609.0</td>\n",
       "    </tr>\n",
       "    <tr>\n",
       "      <th>2</th>\n",
       "      <td>1458.0</td>\n",
       "    </tr>\n",
       "    <tr>\n",
       "      <th>3</th>\n",
       "      <td>1357.0</td>\n",
       "    </tr>\n",
       "    <tr>\n",
       "      <th>4</th>\n",
       "      <td>1235.0</td>\n",
       "    </tr>\n",
       "  </tbody>\n",
       "</table>\n",
       "</div>"
      ],
      "text/plain": [
       "   spaces\n",
       "0  1642.0\n",
       "1  1609.0\n",
       "2  1458.0\n",
       "3  1357.0\n",
       "4  1235.0"
      ]
     },
     "execution_count": 68,
     "metadata": {},
     "output_type": "execute_result"
    }
   ],
   "source": [
    "#converting the updatedon column to pandas datetime format \n",
    "df['updatedon'] = pd.to_datetime(df['updatedon'])\n",
    "date_time = pd.to_datetime(df.pop('updatedon'), format='%d.%m.%Y %H:%M:%S')\n",
    "id = df.pop('id')\n",
    "df.head()"
   ]
  },
  {
   "cell_type": "code",
   "execution_count": 42,
   "id": "7c6f9cbf-1131-4e35-8a19-d3b624984efa",
   "metadata": {},
   "outputs": [
    {
     "data": {
      "text/plain": [
       "(47605, 1)"
      ]
     },
     "execution_count": 42,
     "metadata": {},
     "output_type": "execute_result"
    }
   ],
   "source": [
    "df.shape"
   ]
  },
  {
   "cell_type": "code",
   "execution_count": 69,
   "id": "2a026166-0858-478f-b2c7-73456898718d",
   "metadata": {},
   "outputs": [
    {
     "data": {
      "text/html": [
       "<div>\n",
       "<style scoped>\n",
       "    .dataframe tbody tr th:only-of-type {\n",
       "        vertical-align: middle;\n",
       "    }\n",
       "\n",
       "    .dataframe tbody tr th {\n",
       "        vertical-align: top;\n",
       "    }\n",
       "\n",
       "    .dataframe thead th {\n",
       "        text-align: right;\n",
       "    }\n",
       "</style>\n",
       "<table border=\"1\" class=\"dataframe\">\n",
       "  <thead>\n",
       "    <tr style=\"text-align: right;\">\n",
       "      <th></th>\n",
       "      <th>spaces</th>\n",
       "    </tr>\n",
       "  </thead>\n",
       "  <tbody>\n",
       "    <tr>\n",
       "      <th>0</th>\n",
       "      <td>1642.000000</td>\n",
       "    </tr>\n",
       "    <tr>\n",
       "      <th>1</th>\n",
       "      <td>1609.000000</td>\n",
       "    </tr>\n",
       "    <tr>\n",
       "      <th>2</th>\n",
       "      <td>1458.000000</td>\n",
       "    </tr>\n",
       "    <tr>\n",
       "      <th>3</th>\n",
       "      <td>1357.000000</td>\n",
       "    </tr>\n",
       "    <tr>\n",
       "      <th>4</th>\n",
       "      <td>1235.000000</td>\n",
       "    </tr>\n",
       "    <tr>\n",
       "      <th>...</th>\n",
       "      <td>...</td>\n",
       "    </tr>\n",
       "    <tr>\n",
       "      <th>47600</th>\n",
       "      <td>3472.484771</td>\n",
       "    </tr>\n",
       "    <tr>\n",
       "      <th>47601</th>\n",
       "      <td>3472.484771</td>\n",
       "    </tr>\n",
       "    <tr>\n",
       "      <th>47602</th>\n",
       "      <td>3472.484771</td>\n",
       "    </tr>\n",
       "    <tr>\n",
       "      <th>47603</th>\n",
       "      <td>3472.484771</td>\n",
       "    </tr>\n",
       "    <tr>\n",
       "      <th>47604</th>\n",
       "      <td>3472.484771</td>\n",
       "    </tr>\n",
       "  </tbody>\n",
       "</table>\n",
       "<p>47605 rows × 1 columns</p>\n",
       "</div>"
      ],
      "text/plain": [
       "            spaces\n",
       "0      1642.000000\n",
       "1      1609.000000\n",
       "2      1458.000000\n",
       "3      1357.000000\n",
       "4      1235.000000\n",
       "...            ...\n",
       "47600  3472.484771\n",
       "47601  3472.484771\n",
       "47602  3472.484771\n",
       "47603  3472.484771\n",
       "47604  3472.484771\n",
       "\n",
       "[47605 rows x 1 columns]"
      ]
     },
     "execution_count": 69,
     "metadata": {},
     "output_type": "execute_result"
    }
   ],
   "source": [
    "df"
   ]
  },
  {
   "cell_type": "code",
   "execution_count": 95,
   "id": "3b48180d-a664-434f-9616-246ca9f09619",
   "metadata": {},
   "outputs": [
    {
     "data": {
      "text/plain": [
       "<seaborn.axisgrid.FacetGrid at 0x157f6d0f7f0>"
      ]
     },
     "execution_count": 95,
     "metadata": {},
     "output_type": "execute_result"
    },
    {
     "data": {
      "image/png": "[encoded data removed]",
      "text/plain": [
       "<Figure size 576x576 with 1 Axes>"
      ]
     },
     "metadata": {
      "needs_background": "light"
     },
     "output_type": "display_data"
    },
    {
     "data": {
      "image/png": "[encoded data removed]",
      "text/plain": [
       "<Figure size 360x360 with 1 Axes>"
      ]
     },
     "metadata": {
      "needs_background": "light"
     },
     "output_type": "display_data"
    }
   ],
   "source": [
    "fig, ax = plt.subplots(figsize=(8,8))\n",
    "sns.displot(df.spaces)"
   ]
  },
  {
   "cell_type": "code",
   "execution_count": 71,
   "id": "383b71e7-4632-491e-962c-879d2db1dbe2",
   "metadata": {},
   "outputs": [
    {
     "data": {
      "image/png": "[encoded data removed]",
      "text/plain": [
       "<Figure size 576x432 with 1 Axes>"
      ]
     },
     "metadata": {
      "needs_background": "light"
     },
     "output_type": "display_data"
    },
    {
     "data": {
      "image/png": "[encoded data removed]",
      "text/plain": [
       "<Figure size 576x432 with 1 Axes>"
      ]
     },
     "metadata": {
      "needs_background": "light"
     },
     "output_type": "display_data"
    }
   ],
   "source": [
    "plot_cols = ['spaces']\n",
    "plot_features = df[plot_cols]\n",
    "plot_features.index = date_time\n",
    "_ = plot_features.plot(subplots=True)\n",
    "\n",
    "plot_features = df[plot_cols][:480]\n",
    "plot_features.index = date_time[:480]\n",
    "_ = plot_features.plot(subplots=True)"
   ]
  },
  {
   "cell_type": "code",
   "execution_count": 72,
   "id": "44eea031-2612-4028-ac9f-26827edcf7e5",
   "metadata": {},
   "outputs": [
    {
     "data": {
      "text/html": [
       "<div>\n",
       "<style scoped>\n",
       "    .dataframe tbody tr th:only-of-type {\n",
       "        vertical-align: middle;\n",
       "    }\n",
       "\n",
       "    .dataframe tbody tr th {\n",
       "        vertical-align: top;\n",
       "    }\n",
       "\n",
       "    .dataframe thead th {\n",
       "        text-align: right;\n",
       "    }\n",
       "</style>\n",
       "<table border=\"1\" class=\"dataframe\">\n",
       "  <thead>\n",
       "    <tr style=\"text-align: right;\">\n",
       "      <th></th>\n",
       "      <th>spaces</th>\n",
       "    </tr>\n",
       "  </thead>\n",
       "  <tbody>\n",
       "    <tr>\n",
       "      <th>count</th>\n",
       "      <td>47605.000000</td>\n",
       "    </tr>\n",
       "    <tr>\n",
       "      <th>mean</th>\n",
       "      <td>3472.484771</td>\n",
       "    </tr>\n",
       "    <tr>\n",
       "      <th>std</th>\n",
       "      <td>1328.824980</td>\n",
       "    </tr>\n",
       "    <tr>\n",
       "      <th>min</th>\n",
       "      <td>3.000000</td>\n",
       "    </tr>\n",
       "    <tr>\n",
       "      <th>25%</th>\n",
       "      <td>2793.000000</td>\n",
       "    </tr>\n",
       "    <tr>\n",
       "      <th>50%</th>\n",
       "      <td>3472.484771</td>\n",
       "    </tr>\n",
       "    <tr>\n",
       "      <th>75%</th>\n",
       "      <td>4500.000000</td>\n",
       "    </tr>\n",
       "    <tr>\n",
       "      <th>max</th>\n",
       "      <td>5539.000000</td>\n",
       "    </tr>\n",
       "  </tbody>\n",
       "</table>\n",
       "</div>"
      ],
      "text/plain": [
       "             spaces\n",
       "count  47605.000000\n",
       "mean    3472.484771\n",
       "std     1328.824980\n",
       "min        3.000000\n",
       "25%     2793.000000\n",
       "50%     3472.484771\n",
       "75%     4500.000000\n",
       "max     5539.000000"
      ]
     },
     "execution_count": 72,
     "metadata": {},
     "output_type": "execute_result"
    }
   ],
   "source": [
    "df.describe()"
   ]
  },
  {
   "cell_type": "code",
   "execution_count": 73,
   "id": "49788342-2b41-43cb-b51a-0538fbf7f8be",
   "metadata": {},
   "outputs": [],
   "source": [
    "column_indices = {name: i for i, name in enumerate(df.columns)}\n",
    "n = len(df)\n",
    "train_df = df[0:int(n*0.7)]\n",
    "val_df = df[int(n*0.7):int(n*0.9)]\n",
    "test_df = df[int(n*0.9):]\n",
    "\n",
    "num_features = df.shape[1]"
   ]
  },
  {
   "cell_type": "code",
   "execution_count": 74,
   "id": "067a13c9-e9d8-407e-b6cf-0c9855fa324b",
   "metadata": {},
   "outputs": [],
   "source": [
    "train_mean = train_df.mean()\n",
    "train_std = train_df.std()\n",
    "\n",
    "train_df = (train_df - train_mean) / train_std\n",
    "val_df = (val_df - train_mean) / train_std\n",
    "test_df = (test_df - train_mean) / train_std"
   ]
  },
  {
   "cell_type": "code",
   "execution_count": 100,
   "id": "fd8f4064-4bb8-42d3-a86f-9a20dd7cf1d8",
   "metadata": {},
   "outputs": [],
   "source": [
    "#Indexes and offsets\n",
    "#creating a class for windows generator\n",
    "\n",
    "class WindowGenerator():\n",
    "    def __init__(self, input_width, label_width, shift,\n",
    "               train_df = train_df, val_df = val_df, test_df = test_df,\n",
    "               label_columns=None):\n",
    "        \n",
    "        #store the raw data\n",
    "        self.train_df = train_df\n",
    "        self.val_df = val_df\n",
    "        self.test_df = test_df\n",
    "        \n",
    "        #Work out the label column indices\n",
    "        self.label_columns = label_columns\n",
    "        if label_columns is not None:\n",
    "            self.label_columns_indices = {name: i for i, name in enumerate(label_columns)}\n",
    "        self.column_indices = {name: i for i, name in enumerate(train_df.columns)}\n",
    "        \n",
    "        #work out the windows parameters\n",
    "        self.input_width = input_width\n",
    "        self.label_width = label_width\n",
    "        self.shift = shift\n",
    "        \n",
    "        self.total_window_size = input_width + shift\n",
    "        \n",
    "        self.input_slice = slice(0, input_width)\n",
    "        self.input_indices = np.arange(self.total_window_size)[self.input_slice]\n",
    "        \n",
    "        self.label_start = self.total_window_size - self.label_width\n",
    "        self.labels_slice = slice(self.label_start, None)\n",
    "        self.label_indices = np.arange(self.total_window_size)[self.labels_slice]\n",
    "        \n",
    "\n",
    "    def __repr__(self):\n",
    "        return '\\n' .join([\n",
    "            f'Total window size: {self.total_window_size}',\n",
    "            f'Input Indices: {self.input_indices}',\n",
    "            f'Label Indices: {self.label_indices}',\n",
    "            f'Label Column name(s): {self.label_columns}'])"
   ]
  },
  {
   "cell_type": "code",
   "execution_count": 101,
   "id": "95af4cde-0393-4778-a59c-8d4c5921ee1c",
   "metadata": {},
   "outputs": [
    {
     "data": {
      "text/plain": [
       "Total window size: 48\n",
       "Input Indices: [ 0  1  2  3  4  5  6  7  8  9 10 11 12 13 14 15 16 17 18 19 20 21 22 23]\n",
       "Label Indices: [47]\n",
       "Label Column name(s): ['spaces']"
      ]
     },
     "execution_count": 101,
     "metadata": {},
     "output_type": "execute_result"
    }
   ],
   "source": [
    "w1 = WindowGenerator(input_width=24, label_width=1, shift=24,\n",
    "                    label_columns=['spaces'])\n",
    "\n",
    "w1"
   ]
  },
  {
   "cell_type": "code",
   "execution_count": 102,
   "id": "22498018-b332-4841-8c98-c1dafdc122a1",
   "metadata": {},
   "outputs": [],
   "source": [
    "def split_window(self, features):\n",
    "    inputs = features[:, self.input_slice, :]\n",
    "    labels = features[:, self.labels_slice, :]\n",
    "    if self.label_columns is not None:\n",
    "        labels = tf.stack(\n",
    "        [labels[:, :, self.column_indices[name]] for name in self.label_columns],\n",
    "        axis=-1)\n",
    "        \n",
    "    #slicing doesnt preserve static shape information, so set the shapes\n",
    "    #manually. This way the tf.data.Datasets are easier to inspect\n",
    "    inputs.set_shape([None, self.input_width, None])\n",
    "    labels.set_shape([None, self.label_width, None])\n",
    "    \n",
    "    return inputs, labels\n",
    "\n",
    "\n",
    "WindowGenerator.split_window = split_window"
   ]
  },
  {
   "cell_type": "code",
   "execution_count": 103,
   "id": "8b35561b-e269-45c7-88ff-ddbabb70fd8e",
   "metadata": {},
   "outputs": [
    {
     "name": "stdout",
     "output_type": "stream",
     "text": [
      "All Shapes are: (batch, time, features)\n",
      "Window Shape: (3, 48, 1)\n",
      "Inputs Shape: (3, 24, 1)\n",
      "Labels Shape: (3, 1, 1)\n"
     ]
    }
   ],
   "source": [
    "#stack three slices, the length of the total window\n",
    "example_window = tf.stack([np.array(train_df[:w1.total_window_size]),\n",
    "                          np.array(train_df[100:100+w1.total_window_size]),\n",
    "                          np.array(train_df[200:200+w1.total_window_size])])\n",
    "\n",
    "example_inputs, example_labels = w1.split_window(example_window)\n",
    "\n",
    "print('All Shapes are: (batch, time, features)')\n",
    "print(f'Window Shape: {example_window.shape}')\n",
    "print(f'Inputs Shape: {example_inputs.shape}')\n",
    "print(f'Labels Shape: {example_labels.shape}')"
   ]
  },
  {
   "cell_type": "code",
   "execution_count": 104,
   "id": "7a8cb1a0-68e7-4cb7-9f51-9de197f73896",
   "metadata": {},
   "outputs": [],
   "source": [
    "w1.example = example_inputs, example_labels"
   ]
  },
  {
   "cell_type": "code",
   "execution_count": 105,
   "id": "2227eabc-e0c2-4c10-af10-1dbef6775425",
   "metadata": {},
   "outputs": [
    {
     "data": {
      "image/png": "[encoded data removed]",
      "text/plain": [
       "<Figure size 864x576 with 3 Axes>"
      ]
     },
     "metadata": {
      "needs_background": "light"
     },
     "output_type": "display_data"
    }
   ],
   "source": [
    "#plot\n",
    "def plot(self, model=None, plot_col = ('spaces'), max_subplots=3, plot_feature = df[plot_cols]):\n",
    "    inputs, labels = self.example\n",
    "    plt.figure(figsize=(12, 8))\n",
    "    plot_col_index = self.column_indices[plot_col]\n",
    "    max_n = min(max_subplots, len(inputs))\n",
    "    for n in range(max_n):\n",
    "        plt.subplot(max_n, 1, n+1)\n",
    "        plt.ylabel('mean squared error')\n",
    "        plt.plot(self.input_indices, inputs[n, :, plot_col_index],\n",
    "                label='Inputs', marker='.', zorder=-10)\n",
    "        \n",
    "        if self.label_columns:\n",
    "            label_col_index = self.label_columns_indices.get(plot_col, None)\n",
    "        else:\n",
    "            label_col_index = plot_col_index\n",
    "            \n",
    "        if label_col_index is None:\n",
    "            continue\n",
    "            \n",
    "        \n",
    "        plt.scatter(self.label_indices, labels[n, :, label_col_index],\n",
    "                   edgecolors='k', label='Labels', c='#2ca02c', s=64)\n",
    "        \n",
    "        if model is not None:\n",
    "            predictions = model(inputs)\n",
    "            plt.scatter(self.label_indices, predictions[n, :, label_col_index],\n",
    "                       marker='X', edgecolors='k', label='Predictions',\n",
    "                       c='#ff7f0e', s=64)\n",
    "            \n",
    "        if n == 0:\n",
    "            plt.legend()\n",
    "            \n",
    "            \n",
    "    plt.xlabel('Time [h]')\n",
    "    \n",
    "    \n",
    "WindowGenerator.plot = plot\n",
    "\n",
    "w1.plot()"
   ]
  },
  {
   "cell_type": "code",
   "execution_count": 106,
   "id": "82df2a17-90f2-4249-a998-af7497f7c17f",
   "metadata": {},
   "outputs": [],
   "source": [
    "def make_dataset(self, data):\n",
    "    data = np.array(data, dtype=np.float32)\n",
    "    ds = tf.keras.utils.timeseries_dataset_from_array(\n",
    "        data=data,\n",
    "        targets=None,\n",
    "        sequence_length=self.total_window_size,\n",
    "        sequence_stride=1,\n",
    "        shuffle=True,\n",
    "        batch_size=32,)\n",
    "    ds = ds.map(self.split_window)\n",
    "    \n",
    "    \n",
    "    return ds\n",
    "    \n",
    "\n",
    "WindowGenerator.make_dataset = make_dataset"
   ]
  },
  {
   "cell_type": "code",
   "execution_count": 107,
   "id": "56cd7325-ab95-4015-b432-04b97a816891",
   "metadata": {},
   "outputs": [],
   "source": [
    "@property\n",
    "def train(self):\n",
    "    return self.make_dataset(self.train_df)\n",
    "\n",
    "@property\n",
    "def val(self):\n",
    "    return self.make_dataset(self.val_df)\n",
    "\n",
    "@property\n",
    "def test(self):\n",
    "    return self.make_dataset(self.test_df)\n",
    "\n",
    "@property\n",
    "def example(self):\n",
    "    \"\"\"Get and cache an example batch of `inputs, labels` for plotting.\"\"\"\n",
    "    result = getattr(self, '_example', None)\n",
    "    if result is None:\n",
    "        #No example of batch was found, so get one from the '.train' dataset\n",
    "        result = next(iter(self.train))\n",
    "        #and cache it for next time\n",
    "        self._example = result\n",
    "    return result\n",
    "\n",
    "WindowGenerator.train = train\n",
    "WindowGenerator.val = val\n",
    "WindowGenerator.test = test\n",
    "WindowGenerator.example = example"
   ]
  },
  {
   "cell_type": "code",
   "execution_count": 108,
   "id": "8fb8f504-5232-403d-a564-485d77256c95",
   "metadata": {},
   "outputs": [
    {
     "data": {
      "text/plain": [
       "(TensorSpec(shape=(None, 24, 1), dtype=tf.float32, name=None),\n",
       " TensorSpec(shape=(None, 1, 1), dtype=tf.float32, name=None))"
      ]
     },
     "execution_count": 108,
     "metadata": {},
     "output_type": "execute_result"
    }
   ],
   "source": [
    "#each element is an input (inputs, label) pair\n",
    "w1.train.element_spec"
   ]
  },
  {
   "cell_type": "code",
   "execution_count": 109,
   "id": "4611314e-fb2c-4063-940e-7e533c4607db",
   "metadata": {},
   "outputs": [
    {
     "name": "stdout",
     "output_type": "stream",
     "text": [
      "Inputs shape (batch, time, features): (32, 24, 1)\n",
      "Labels shape (batch, time, features): (32, 1, 1)\n"
     ]
    }
   ],
   "source": [
    "#Iterating over a Dataset yields concrete batches\n",
    "for example_inputs, example_labels in w1.train.take(1):\n",
    "    print(f'Inputs shape (batch, time, features): {example_inputs.shape}')\n",
    "    print(f'Labels shape (batch, time, features): {example_labels.shape}')"
   ]
  },
  {
   "cell_type": "code",
   "execution_count": 110,
   "id": "92e75fe5-b5cf-47a0-914e-f027f00ed482",
   "metadata": {},
   "outputs": [
    {
     "data": {
      "text/plain": [
       "Total window size: 2\n",
       "Input Indices: [0]\n",
       "Label Indices: [1]\n",
       "Label Column name(s): ['spaces']"
      ]
     },
     "execution_count": 110,
     "metadata": {},
     "output_type": "execute_result"
    }
   ],
   "source": [
    "single_step_window = WindowGenerator(\n",
    "    input_width=1, label_width=1, shift=1,\n",
    "    label_columns=['spaces'])\n",
    "single_step_window"
   ]
  },
  {
   "cell_type": "code",
   "execution_count": 111,
   "id": "919d7b45-25e7-4c68-ae89-f87451c6bef5",
   "metadata": {},
   "outputs": [
    {
     "name": "stdout",
     "output_type": "stream",
     "text": [
      "Inputs shape (batch, time, features): (32, 1, 1)\n",
      "Labels shape (batch, time, features): (32, 1, 1)\n"
     ]
    }
   ],
   "source": [
    "for example_inputs, example_labels in single_step_window.train.take(1):\n",
    "    print(f'Inputs shape (batch, time, features): {example_inputs.shape}')\n",
    "    print(f'Labels shape (batch, time, features): {example_labels.shape}')"
   ]
  },
  {
   "cell_type": "code",
   "execution_count": 112,
   "id": "a6e3d26b-212f-4067-b398-731a0df2747e",
   "metadata": {},
   "outputs": [],
   "source": [
    "#Baseline model\n",
    "class Baseline(tf.keras.Model):\n",
    "    def __init__(self, label_index=None):\n",
    "        super().__init__()\n",
    "        self.label_index = label_index\n",
    "    \n",
    "    def call(self, inputs):\n",
    "        if self.label_index is None:\n",
    "            return inputs\n",
    "        result = inputs[:, :, self.label_index]\n",
    "        return result[:, :, tf.newaxis]"
   ]
  },
  {
   "cell_type": "code",
   "execution_count": 113,
   "id": "30deeea4-0a50-4794-8820-60a2dc261287",
   "metadata": {},
   "outputs": [
    {
     "name": "stdout",
     "output_type": "stream",
     "text": [
      "298/298 [==============================] - 0s 737us/step - loss: 0.0786 - mean_absolute_error: 0.0586\n"
     ]
    }
   ],
   "source": [
    "#instantiate and evaluate model\n",
    "baseline = Baseline(label_index=column_indices['spaces'])\n",
    "\n",
    "baseline.compile(loss=tf.keras.losses.MeanSquaredError(),\n",
    "                 metrics=[tf.keras.metrics.MeanAbsoluteError()])\n",
    "\n",
    "val_performance = {}\n",
    "performance = {}\n",
    "val_performance['Baseline'] = baseline.evaluate(single_step_window.val)\n",
    "performance['Baseline'] = baseline.evaluate(single_step_window.test, verbose=0)"
   ]
  },
  {
   "cell_type": "code",
   "execution_count": 114,
   "id": "915235fc-8adb-4908-b12b-e216bf6b28e4",
   "metadata": {},
   "outputs": [
    {
     "data": {
      "text/plain": [
       "Total window size: 25\n",
       "Input Indices: [ 0  1  2  3  4  5  6  7  8  9 10 11 12 13 14 15 16 17 18 19 20 21 22 23]\n",
       "Label Indices: [ 1  2  3  4  5  6  7  8  9 10 11 12 13 14 15 16 17 18 19 20 21 22 23 24]\n",
       "Label Column name(s): ['spaces']"
      ]
     },
     "execution_count": 114,
     "metadata": {},
     "output_type": "execute_result"
    }
   ],
   "source": [
    "wide_window = WindowGenerator(\n",
    "    input_width=24, label_width=24, shift=1,\n",
    "    label_columns=['spaces'])\n",
    "\n",
    "wide_window"
   ]
  },
  {
   "cell_type": "code",
   "execution_count": 115,
   "id": "70982a5a-8097-4079-903c-f3fdc28c8eaa",
   "metadata": {},
   "outputs": [],
   "source": [
    "MAX_EPOCHS = 100\n",
    "\n",
    "def compile_and_fit(model, window, patience=2):\n",
    "    early_stopping = tf.keras.callbacks.EarlyStopping(monitor='val_loss',\n",
    "                                                      patience=patience,\n",
    "                                                      mode='min')\n",
    "    model.compile(loss=tf.keras.losses.MeanSquaredError(),\n",
    "                  optimizer=tf.keras.optimizers.Adam(),\n",
    "                  metrics=[tf.keras.metrics.MeanAbsoluteError()])\n",
    "\n",
    "    history = model.fit(window.train, epochs=MAX_EPOCHS,\n",
    "                        validation_data=window.val,\n",
    "                        callbacks=[early_stopping])\n",
    "    return history"
   ]
  },
  {
   "cell_type": "code",
   "execution_count": 116,
   "id": "6c280b98-c9b6-4309-b7d9-67480eb627ff",
   "metadata": {},
   "outputs": [],
   "source": [
    "#recurrent model\n",
    "lstm_model = tf.keras.models.Sequential([\n",
    "    # Shape [batch, time, features] => [batch, time, lstm_units]\n",
    "    tf.keras.layers.LSTM(32, return_sequences=True),\n",
    "    # Shape => [batch, time, features]\n",
    "    tf.keras.layers.Dense(units=1)\n",
    "])"
   ]
  },
  {
   "cell_type": "code",
   "execution_count": 117,
   "id": "8a66f05b-b4df-4cca-9b72-b98d38aaf2a4",
   "metadata": {},
   "outputs": [
    {
     "name": "stdout",
     "output_type": "stream",
     "text": [
      "Epoch 1/100\n",
      "1041/1041 [==============================] - 9s 7ms/step - loss: 0.1154 - mean_absolute_error: 0.1616 - val_loss: 0.0724 - val_mean_absolute_error: 0.0719\n",
      "Epoch 2/100\n",
      "1041/1041 [==============================] - 7s 7ms/step - loss: 0.0661 - mean_absolute_error: 0.0952 - val_loss: 0.0704 - val_mean_absolute_error: 0.0705\n",
      "Epoch 3/100\n",
      "1041/1041 [==============================] - 7s 7ms/step - loss: 0.0646 - mean_absolute_error: 0.0919 - val_loss: 0.0698 - val_mean_absolute_error: 0.0705\n",
      "Epoch 4/100\n",
      "1041/1041 [==============================] - 7s 7ms/step - loss: 0.0641 - mean_absolute_error: 0.0914 - val_loss: 0.0695 - val_mean_absolute_error: 0.0783\n",
      "Epoch 5/100\n",
      "1041/1041 [==============================] - 7s 7ms/step - loss: 0.0636 - mean_absolute_error: 0.0909 - val_loss: 0.0689 - val_mean_absolute_error: 0.0732\n",
      "Epoch 6/100\n",
      "1041/1041 [==============================] - 7s 7ms/step - loss: 0.0630 - mean_absolute_error: 0.0904 - val_loss: 0.0688 - val_mean_absolute_error: 0.0718\n",
      "Epoch 7/100\n",
      "1041/1041 [==============================] - 9s 8ms/step - loss: 0.0621 - mean_absolute_error: 0.0892 - val_loss: 0.0683 - val_mean_absolute_error: 0.0703\n",
      "Epoch 8/100\n",
      "1041/1041 [==============================] - 9s 9ms/step - loss: 0.0612 - mean_absolute_error: 0.0876 - val_loss: 0.0678 - val_mean_absolute_error: 0.0689\n",
      "Epoch 9/100\n",
      "1041/1041 [==============================] - 9s 8ms/step - loss: 0.0603 - mean_absolute_error: 0.0861 - val_loss: 0.0676 - val_mean_absolute_error: 0.0718\n",
      "Epoch 10/100\n",
      "1041/1041 [==============================] - 9s 8ms/step - loss: 0.0594 - mean_absolute_error: 0.0843 - val_loss: 0.0667 - val_mean_absolute_error: 0.0712\n",
      "Epoch 11/100\n",
      "1041/1041 [==============================] - 8s 8ms/step - loss: 0.0588 - mean_absolute_error: 0.0833 - val_loss: 0.0662 - val_mean_absolute_error: 0.0677\n",
      "Epoch 12/100\n",
      "1041/1041 [==============================] - 9s 8ms/step - loss: 0.0580 - mean_absolute_error: 0.0818 - val_loss: 0.0660 - val_mean_absolute_error: 0.0691\n",
      "Epoch 13/100\n",
      "1041/1041 [==============================] - 9s 8ms/step - loss: 0.0574 - mean_absolute_error: 0.0809 - val_loss: 0.0652 - val_mean_absolute_error: 0.0742\n",
      "Epoch 14/100\n",
      "1041/1041 [==============================] - 9s 8ms/step - loss: 0.0568 - mean_absolute_error: 0.0802 - val_loss: 0.0651 - val_mean_absolute_error: 0.0692\n",
      "Epoch 15/100\n",
      "1041/1041 [==============================] - 9s 8ms/step - loss: 0.0562 - mean_absolute_error: 0.0797 - val_loss: 0.0648 - val_mean_absolute_error: 0.0711\n",
      "Epoch 16/100\n",
      "1041/1041 [==============================] - 9s 8ms/step - loss: 0.0557 - mean_absolute_error: 0.0790 - val_loss: 0.0653 - val_mean_absolute_error: 0.0669\n",
      "Epoch 17/100\n",
      "1041/1041 [==============================] - 9s 8ms/step - loss: 0.0553 - mean_absolute_error: 0.0789 - val_loss: 0.0654 - val_mean_absolute_error: 0.0680\n",
      "297/297 [==============================] - 1s 3ms/step - loss: 0.0654 - mean_absolute_error: 0.0680\n"
     ]
    }
   ],
   "source": [
    "history = compile_and_fit(lstm_model, wide_window)\n",
    "\n",
    "val_performance['LSTM'] = lstm_model.evaluate(wide_window.val)\n",
    "performance['LSTM'] = lstm_model.evaluate(wide_window.test, verbose=0)"
   ]
  },
  {
   "cell_type": "code",
   "execution_count": 118,
   "id": "905f9ca1-2bd1-4207-9697-860ff0136e01",
   "metadata": {},
   "outputs": [
    {
     "data": {
      "image/png": "[encoded data removed]",
      "text/plain": [
       "<Figure size 864x576 with 3 Axes>"
      ]
     },
     "metadata": {
      "needs_background": "light"
     },
     "output_type": "display_data"
    }
   ],
   "source": [
    "wide_window.plot(lstm_model)"
   ]
  },
  {
   "cell_type": "code",
   "execution_count": null,
   "id": "3049328a-8c32-4ddb-b071-3320f3432e52",
   "metadata": {},
   "outputs": [],
   "source": []
  }
 ],
 "metadata": {
  "kernelspec": {
   "display_name": "Python 3 (ipykernel)",
   "language": "python",
   "name": "python3"
  },
  "language_info": {
   "codemirror_mode": {
    "name": "ipython",
    "version": 3
   },
   "file_extension": ".py",
   "mimetype": "text/x-python",
   "name": "python",
   "nbconvert_exporter": "python",
   "pygments_lexer": "ipython3",
   "version": "3.9.12"
  }
 },
 "nbformat": 4,
 "nbformat_minor": 5
}
