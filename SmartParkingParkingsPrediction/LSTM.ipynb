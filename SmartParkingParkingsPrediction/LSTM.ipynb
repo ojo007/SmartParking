{
 "cells": [
  {
   "cell_type": "markdown",
   "id": "a3fd64f4-67db-45b8-b882-96847c3435a1",
   "metadata": {},
   "source": [
    "Importing modules"
   ]
  },
  {
   "cell_type": "code",
   "execution_count": 83,
   "id": "8fda7359-1a3b-4062-92a0-2db555883373",
   "metadata": {},
   "outputs": [],
   "source": [
    "import os\n",
    "import datetime\n",
    "\n",
    "import IPython\n",
    "import IPython.display\n",
    "import matplotlib as mpl\n",
    "import matplotlib.pyplot as plt\n",
    "import numpy as np\n",
    "import pandas as pd\n",
    "import seaborn as sns\n",
    "import tensorflow as tf\n",
    "\n",
    "mpl.rcParams['figure.figsize'] = (8, 6)\n",
    "mpl.rcParams['axes.grid'] = False"
   ]
  },
  {
   "cell_type": "markdown",
   "id": "e5328e65-6ad6-48ac-ae9a-20f600d0f470",
   "metadata": {},
   "source": [
    "The Dataset contains four different features such as Parking_details_id, Parking_id, Spaces, and Updatedon. They were collected every Five minutess from 19th July 2022 till date. This information was collected from Nicosia Municipality for the study of Parking spaces Availabilty to assist in developing smart cities, where we can predict the parking availabity for any user."
   ]
  },
  {
   "cell_type": "code",
   "execution_count": 84,
   "id": "171eb3e6-ea02-40f1-b568-fb768d45a5d7",
   "metadata": {},
   "outputs": [
    {
     "data": {
      "text/html": [
       "<div>\n",
       "<style scoped>\n",
       "    .dataframe tbody tr th:only-of-type {\n",
       "        vertical-align: middle;\n",
       "    }\n",
       "\n",
       "    .dataframe tbody tr th {\n",
       "        vertical-align: top;\n",
       "    }\n",
       "\n",
       "    .dataframe thead th {\n",
       "        text-align: right;\n",
       "    }\n",
       "</style>\n",
       "<table border=\"1\" class=\"dataframe\">\n",
       "  <thead>\n",
       "    <tr style=\"text-align: right;\">\n",
       "      <th></th>\n",
       "      <th>parking_details_id</th>\n",
       "      <th>parking_id</th>\n",
       "      <th>spaces</th>\n",
       "      <th>updatedon</th>\n",
       "    </tr>\n",
       "  </thead>\n",
       "  <tbody>\n",
       "    <tr>\n",
       "      <th>1</th>\n",
       "      <td>2</td>\n",
       "      <td>2</td>\n",
       "      <td>117</td>\n",
       "      <td>Tue, 19 Jul 2022 10:58:57</td>\n",
       "    </tr>\n",
       "    <tr>\n",
       "      <th>5</th>\n",
       "      <td>6</td>\n",
       "      <td>2</td>\n",
       "      <td>117</td>\n",
       "      <td>Tue, 19 Jul 2022 10:58:57</td>\n",
       "    </tr>\n",
       "    <tr>\n",
       "      <th>9</th>\n",
       "      <td>10</td>\n",
       "      <td>2</td>\n",
       "      <td>117</td>\n",
       "      <td>Tue, 19 Jul 2022 10:58:57</td>\n",
       "    </tr>\n",
       "    <tr>\n",
       "      <th>13</th>\n",
       "      <td>14</td>\n",
       "      <td>2</td>\n",
       "      <td>117</td>\n",
       "      <td>Tue, 19 Jul 2022 10:58:57</td>\n",
       "    </tr>\n",
       "    <tr>\n",
       "      <th>17</th>\n",
       "      <td>18</td>\n",
       "      <td>2</td>\n",
       "      <td>117</td>\n",
       "      <td>Tue, 19 Jul 2022 10:58:57</td>\n",
       "    </tr>\n",
       "  </tbody>\n",
       "</table>\n",
       "</div>"
      ],
      "text/plain": [
       "    parking_details_id  parking_id  spaces                  updatedon\n",
       "1                    2           2     117  Tue, 19 Jul 2022 10:58:57\n",
       "5                    6           2     117  Tue, 19 Jul 2022 10:58:57\n",
       "9                   10           2     117  Tue, 19 Jul 2022 10:58:57\n",
       "13                  14           2     117  Tue, 19 Jul 2022 10:58:57\n",
       "17                  18           2     117  Tue, 19 Jul 2022 10:58:57"
      ]
     },
     "execution_count": 84,
     "metadata": {},
     "output_type": "execute_result"
    }
   ],
   "source": [
    "#reading the parking_details dataset file\n",
    "df = pd.read_csv('parking_details.csv')\n",
    "\n",
    "## Slice [start:stop:step], starting from index 1 take every 4th record.\n",
    "df = df[1::4]\n",
    "df.head()"
   ]
  },
  {
   "cell_type": "code",
   "execution_count": 85,
   "id": "1d42594a-1a39-4dae-ae4f-31b75a8237b3",
   "metadata": {},
   "outputs": [
    {
     "data": {
      "text/plain": [
       "parking_details_id    False\n",
       "parking_id            False\n",
       "spaces                False\n",
       "updatedon             False\n",
       "dtype: bool"
      ]
     },
     "execution_count": 85,
     "metadata": {},
     "output_type": "execute_result"
    }
   ],
   "source": [
    "df.isnull().any()"
   ]
  },
  {
   "cell_type": "markdown",
   "id": "8f99a555-40e2-4fda-9e9a-56f548ae1fb3",
   "metadata": {},
   "source": [
    "The updatedon column is a sting format in the dataset. We will be using pandas to convert it pandas datetime format. Also, popping out of the table and saving it into the datetime variable."
   ]
  },
  {
   "cell_type": "code",
   "execution_count": 86,
   "id": "58a9c223-60cc-4917-ab59-10c22bcf43ae",
   "metadata": {},
   "outputs": [],
   "source": [
    "#converting the updatedon column to pandas datetime format \n",
    "df['updatedon'] = pd.to_datetime(df['updatedon'])\n",
    "date_time = pd.to_datetime(df.pop('updatedon'), format='%d.%m.%Y %H:%M:%S')"
   ]
  },
  {
   "cell_type": "code",
   "execution_count": 87,
   "id": "0bd83dff-449e-4446-90e5-d4555fe7f0fa",
   "metadata": {},
   "outputs": [],
   "source": [
    "parking_details_id = df.pop('parking_details_id')\n",
    "parking_id = df.pop('parking_id')"
   ]
  },
  {
   "cell_type": "code",
   "execution_count": 88,
   "id": "9a2d41ca-8e2f-49bd-9c2b-f5a8086fb816",
   "metadata": {},
   "outputs": [
    {
     "data": {
      "text/html": [
       "<div>\n",
       "<style scoped>\n",
       "    .dataframe tbody tr th:only-of-type {\n",
       "        vertical-align: middle;\n",
       "    }\n",
       "\n",
       "    .dataframe tbody tr th {\n",
       "        vertical-align: top;\n",
       "    }\n",
       "\n",
       "    .dataframe thead th {\n",
       "        text-align: right;\n",
       "    }\n",
       "</style>\n",
       "<table border=\"1\" class=\"dataframe\">\n",
       "  <thead>\n",
       "    <tr style=\"text-align: right;\">\n",
       "      <th></th>\n",
       "      <th>spaces</th>\n",
       "    </tr>\n",
       "  </thead>\n",
       "  <tbody>\n",
       "    <tr>\n",
       "      <th>1</th>\n",
       "      <td>117</td>\n",
       "    </tr>\n",
       "    <tr>\n",
       "      <th>5</th>\n",
       "      <td>117</td>\n",
       "    </tr>\n",
       "    <tr>\n",
       "      <th>9</th>\n",
       "      <td>117</td>\n",
       "    </tr>\n",
       "    <tr>\n",
       "      <th>13</th>\n",
       "      <td>117</td>\n",
       "    </tr>\n",
       "    <tr>\n",
       "      <th>17</th>\n",
       "      <td>117</td>\n",
       "    </tr>\n",
       "  </tbody>\n",
       "</table>\n",
       "</div>"
      ],
      "text/plain": [
       "    spaces\n",
       "1      117\n",
       "5      117\n",
       "9      117\n",
       "13     117\n",
       "17     117"
      ]
     },
     "execution_count": 88,
     "metadata": {},
     "output_type": "execute_result"
    }
   ],
   "source": [
    "df.head()"
   ]
  },
  {
   "cell_type": "markdown",
   "id": "73e18003-0cf6-4e63-960b-46c14ba119fe",
   "metadata": {},
   "source": [
    "EVOLUTIONS OF FEATURES OVERTIME"
   ]
  },
  {
   "cell_type": "code",
   "execution_count": 89,
   "id": "4c8e6990-3009-4406-8cd5-bdcff2d78d2e",
   "metadata": {},
   "outputs": [
    {
     "data": {
      "image/png": "[encoded data removed]",
      "text/plain": [
       "<Figure size 576x432 with 1 Axes>"
      ]
     },
     "metadata": {
      "needs_background": "light"
     },
     "output_type": "display_data"
    },
    {
     "data": {
      "image/png": "[encoded data removed]",
      "text/plain": [
       "<Figure size 576x432 with 1 Axes>"
      ]
     },
     "metadata": {
      "needs_background": "light"
     },
     "output_type": "display_data"
    }
   ],
   "source": [
    "plot_cols = ['spaces']\n",
    "plot_features = df[plot_cols]\n",
    "plot_features.index = date_time\n",
    "_ = plot_features.plot(subplots=True)\n",
    "\n",
    "plot_features = df[plot_cols][:1200]\n",
    "plot_features.index = date_time[:1200]\n",
    "_ = plot_features.plot(subplots=True)"
   ]
  },
  {
   "cell_type": "markdown",
   "id": "ce2ba0e3-3ef0-4e47-8343-c8a0ec72cfdf",
   "metadata": {},
   "source": [
    "To inspect and cleanup, we look at the statistics of the dataset using the .describe()"
   ]
  },
  {
   "cell_type": "code",
   "execution_count": 90,
   "id": "3004a75d-24c8-4f01-8fdb-e4849f4d3965",
   "metadata": {},
   "outputs": [
    {
     "data": {
      "text/html": [
       "<div>\n",
       "<style scoped>\n",
       "    .dataframe tbody tr th:only-of-type {\n",
       "        vertical-align: middle;\n",
       "    }\n",
       "\n",
       "    .dataframe tbody tr th {\n",
       "        vertical-align: top;\n",
       "    }\n",
       "\n",
       "    .dataframe thead th {\n",
       "        text-align: right;\n",
       "    }\n",
       "</style>\n",
       "<table border=\"1\" class=\"dataframe\">\n",
       "  <thead>\n",
       "    <tr style=\"text-align: right;\">\n",
       "      <th></th>\n",
       "      <th>spaces</th>\n",
       "    </tr>\n",
       "  </thead>\n",
       "  <tbody>\n",
       "    <tr>\n",
       "      <th>count</th>\n",
       "      <td>5360.000000</td>\n",
       "    </tr>\n",
       "    <tr>\n",
       "      <th>mean</th>\n",
       "      <td>214.171082</td>\n",
       "    </tr>\n",
       "    <tr>\n",
       "      <th>std</th>\n",
       "      <td>30.276718</td>\n",
       "    </tr>\n",
       "    <tr>\n",
       "      <th>min</th>\n",
       "      <td>117.000000</td>\n",
       "    </tr>\n",
       "    <tr>\n",
       "      <th>25%</th>\n",
       "      <td>219.000000</td>\n",
       "    </tr>\n",
       "    <tr>\n",
       "      <th>50%</th>\n",
       "      <td>227.000000</td>\n",
       "    </tr>\n",
       "    <tr>\n",
       "      <th>75%</th>\n",
       "      <td>227.000000</td>\n",
       "    </tr>\n",
       "    <tr>\n",
       "      <th>max</th>\n",
       "      <td>284.000000</td>\n",
       "    </tr>\n",
       "  </tbody>\n",
       "</table>\n",
       "</div>"
      ],
      "text/plain": [
       "            spaces\n",
       "count  5360.000000\n",
       "mean    214.171082\n",
       "std      30.276718\n",
       "min     117.000000\n",
       "25%     219.000000\n",
       "50%     227.000000\n",
       "75%     227.000000\n",
       "max     284.000000"
      ]
     },
     "execution_count": 90,
     "metadata": {},
     "output_type": "execute_result"
    }
   ],
   "source": [
    "df.describe()"
   ]
  },
  {
   "cell_type": "markdown",
   "id": "92ead776-24c8-46a3-8dc3-170b41a15a43",
   "metadata": {},
   "source": [
    "Next, we split the data. You will use a (70%, 20%, 10%) split for the training, validation, and tests set"
   ]
  },
  {
   "cell_type": "code",
   "execution_count": 91,
   "id": "f06031ab-8329-406f-92c5-bc7325a9b5f1",
   "metadata": {},
   "outputs": [],
   "source": [
    "column_indices = {name: i for i, name in enumerate(df.columns)}\n",
    "n = len(df)\n",
    "train_df = df[0:int(n*0.7)]\n",
    "val_df = df[int(n*0.7):int(n*0.9)]\n",
    "test_df = df[int(n*0.9):]\n",
    "\n",
    "num_features = df.shape[1]"
   ]
  },
  {
   "cell_type": "markdown",
   "id": "36033565-60f1-4d7a-a916-9a0d3c800702",
   "metadata": {},
   "source": [
    "Before training a neural network, it is very important to scale the data by normilization. This process is to subtract the mean and divide by the standard deviation of each feature. The mean and standard deviation are only computed using the training data so that the models wont have access to the values validation and test results. This method ensures to get an honest matrics."
   ]
  },
  {
   "cell_type": "code",
   "execution_count": 92,
   "id": "10df3f84-8d90-44aa-b10b-b3bb165d6fa9",
   "metadata": {},
   "outputs": [],
   "source": [
    "train_mean = train_df.mean()\n",
    "train_std = train_df.std()\n",
    "\n",
    "train_df = (train_df - train_mean) / train_std\n",
    "val_df = (val_df - train_mean) / train_std\n",
    "test_df = (test_df - train_mean) / train_std"
   ]
  },
  {
   "cell_type": "markdown",
   "id": "4fdb6a10-b191-404f-9570-30988c923701",
   "metadata": {},
   "source": [
    "In this category, we will apply data windowing. Data windowing will make a set of predictions based on as window of consecutive samples of the data. The main features of the input windows are the width, offset, and the features use as inputs, labels or both. This can be used to build a variety of CNN, DNN and RNN models for (single-output and multi-output predictions) and (single-time step and multi-time step predictions)"
   ]
  },
  {
   "cell_type": "code",
   "execution_count": 93,
   "id": "d215db2c-3c16-4c62-b5a7-5bca0281bb8b",
   "metadata": {},
   "outputs": [],
   "source": [
    "#Indexes and offsets\n",
    "#creating a class for windows generator\n",
    "\n",
    "class WindowGenerator():\n",
    "    def __init__(self, input_width, label_width, shift,\n",
    "               train_df = train_df, val_df = val_df, test_df = test_df,\n",
    "               label_columns=None):\n",
    "        \n",
    "        #store the raw data\n",
    "        self.train_df = train_df\n",
    "        self.val_df = val_df\n",
    "        self.test_df = test_df\n",
    "        \n",
    "        #Work out the label column indices\n",
    "        self.label_columns = label_columns\n",
    "        if label_columns is not None:\n",
    "            self.label_columns_indices = {name: i for i, name in enumerate(label_columns)}\n",
    "        self.column_indices = {name: i for i, name in enumerate(train_df.columns)}\n",
    "        \n",
    "        #work out the windows parameters\n",
    "        self.input_width = input_width\n",
    "        self.label_width = label_width\n",
    "        self.shift = shift\n",
    "        \n",
    "        self.total_window_size = input_width + shift\n",
    "        \n",
    "        self.input_slice = slice(0, input_width)\n",
    "        self.input_indices = np.arange(self.total_window_size)[self.input_slice]\n",
    "        \n",
    "        self.label_start = self.total_window_size - self.label_width\n",
    "        self.labels_slice = slice(self.label_start, None)\n",
    "        self.label_indices = np.arange(self.total_window_size)[self.labels_slice]\n",
    "        \n",
    "\n",
    "    def __repr__(self):\n",
    "        return '\\n' .join([\n",
    "            f'Total window size: {self.total_window_size}',\n",
    "            f'Input Indices: {self.input_indices}',\n",
    "            f'Label Indices: {self.label_indices}',\n",
    "            f'Label Column name(s): {self.label_columns}'])"
   ]
  },
  {
   "cell_type": "code",
   "execution_count": 94,
   "id": "cb269841-5695-4ce3-8d11-3bd4ffb59cc2",
   "metadata": {},
   "outputs": [
    {
     "data": {
      "text/plain": [
       "Total window size: 48\n",
       "Input Indices: [ 0  1  2  3  4  5  6  7  8  9 10 11 12 13 14 15 16 17 18 19 20 21 22 23]\n",
       "Label Indices: [47]\n",
       "Label Column name(s): ['spaces']"
      ]
     },
     "execution_count": 94,
     "metadata": {},
     "output_type": "execute_result"
    }
   ],
   "source": [
    "w1 = WindowGenerator(input_width=24, label_width=1, shift=24,\n",
    "                    label_columns=['spaces'])\n",
    "\n",
    "w1"
   ]
  },
  {
   "cell_type": "markdown",
   "id": "ad8a511c-6cd2-44cc-b776-ad9f1d15243e",
   "metadata": {},
   "source": [
    "Given a list of consecutive inputs, the split window method will convert them to a window of inputs and a window of labels"
   ]
  },
  {
   "cell_type": "code",
   "execution_count": 95,
   "id": "0bdd2af2-bcd7-41f5-b7a6-6f307207526d",
   "metadata": {},
   "outputs": [],
   "source": [
    "def split_window(self, features):\n",
    "    inputs = features[:, self.input_slice, :]\n",
    "    labels = features[:, self.labels_slice, :]\n",
    "    if self.label_columns is not None:\n",
    "        labels = tf.stack(\n",
    "        [labels[:, :, self.column_indices[name]] for name in self.label_columns],\n",
    "        axis=-1)\n",
    "        \n",
    "    #slicing doesnt preserve static shape information, so set the shapes\n",
    "    #manually. This way the tf.data.Datasets are easier to inspect\n",
    "    inputs.set_shape([None, self.input_width, None])\n",
    "    labels.set_shape([None, self.label_width, None])\n",
    "    \n",
    "    return inputs, labels\n",
    "\n",
    "\n",
    "WindowGenerator.split_window = split_window"
   ]
  },
  {
   "cell_type": "markdown",
   "id": "b4d49a34-9b93-45bf-aef4-379b18197118",
   "metadata": {},
   "source": [
    "Given a list of consecutive inputs, the split window method will convert them to a window of inputs and a window of labels"
   ]
  },
  {
   "cell_type": "code",
   "execution_count": 96,
   "id": "f168fb43-7894-4f87-8b69-47d1676df4c9",
   "metadata": {},
   "outputs": [
    {
     "name": "stdout",
     "output_type": "stream",
     "text": [
      "All Shapes are: (batch, time, features)\n",
      "Window Shape: (3, 48, 1)\n",
      "Inputs Shape: (3, 24, 1)\n",
      "Labels Shape: (3, 1, 1)\n"
     ]
    }
   ],
   "source": [
    "#stack three slices, the length of the total window\n",
    "example_window = tf.stack([np.array(train_df[:w1.total_window_size]),\n",
    "                          np.array(train_df[100:100+w1.total_window_size]),\n",
    "                          np.array(train_df[200:200+w1.total_window_size])])\n",
    "\n",
    "example_inputs, example_labels = w1.split_window(example_window)\n",
    "\n",
    "print('All Shapes are: (batch, time, features)')\n",
    "print(f'Window Shape: {example_window.shape}')\n",
    "print(f'Inputs Shape: {example_inputs.shape}')\n",
    "print(f'Labels Shape: {example_labels.shape}')"
   ]
  },
  {
   "cell_type": "code",
   "execution_count": 97,
   "id": "8ed8cb05-af05-4094-b0aa-ebae7690868a",
   "metadata": {},
   "outputs": [],
   "source": [
    "w1.example = example_inputs, example_labels"
   ]
  },
  {
   "cell_type": "code",
   "execution_count": 98,
   "id": "a3fc2cb0-3de9-45de-9fa9-7c87081119c2",
   "metadata": {},
   "outputs": [
    {
     "data": {
      "image/png": "[encoded data removed]",
      "text/plain": [
       "<Figure size 864x576 with 3 Axes>"
      ]
     },
     "metadata": {
      "needs_background": "light"
     },
     "output_type": "display_data"
    }
   ],
   "source": [
    "#plot\n",
    "def plot(self, model=None, plot_col = ('spaces'), max_subplots=3, plot_feature = df[plot_cols]):\n",
    "    inputs, labels = self.example\n",
    "    plt.figure(figsize=(12, 8))\n",
    "    plot_col_index = self.column_indices[plot_col]\n",
    "    max_n = min(max_subplots, len(inputs))\n",
    "    for n in range(max_n):\n",
    "        plt.subplot(max_n, 1, n+1)\n",
    "        plt.ylabel('mean squared error')\n",
    "        plt.plot(self.input_indices, inputs[n, :, plot_col_index],\n",
    "                label='Inputs', marker='.', zorder=-10)\n",
    "        \n",
    "        if self.label_columns:\n",
    "            label_col_index = self.label_columns_indices.get(plot_col, None)\n",
    "        else:\n",
    "            label_col_index = plot_col_index\n",
    "            \n",
    "        if label_col_index is None:\n",
    "            continue\n",
    "            \n",
    "        \n",
    "        plt.scatter(self.label_indices, labels[n, :, label_col_index],\n",
    "                   edgecolors='k', label='Labels', c='#2ca02c', s=64)\n",
    "        \n",
    "        if model is not None:\n",
    "            predictions = model(inputs)\n",
    "            plt.scatter(self.label_indices, predictions[n, :, label_col_index],\n",
    "                       marker='X', edgecolors='k', label='Predictions',\n",
    "                       c='#ff7f0e', s=64)\n",
    "            \n",
    "        if n == 0:\n",
    "            plt.legend()\n",
    "            \n",
    "            \n",
    "    plt.xlabel('Time [h]')\n",
    "    \n",
    "    \n",
    "WindowGenerator.plot = plot\n",
    "\n",
    "w1.plot()"
   ]
  },
  {
   "cell_type": "markdown",
   "id": "224b1179-975f-41d8-a5eb-ffc28a18564a",
   "metadata": {},
   "source": [
    "Finally, this make_dataset method will take a time series DataFrame and convert it to a tf.data.Dataset of (input_window, label_window) pairs using the tf.keras.utils.timeseries_dataset_from array function"
   ]
  },
  {
   "cell_type": "code",
   "execution_count": 99,
   "id": "f20e1d2e-befd-46da-a52d-11d0ee10efb2",
   "metadata": {},
   "outputs": [],
   "source": [
    "def make_dataset(self, data):\n",
    "    data = np.array(data, dtype=np.float32)\n",
    "    ds = tf.keras.utils.timeseries_dataset_from_array(\n",
    "        data=data,\n",
    "        targets=None,\n",
    "        sequence_length=self.total_window_size,\n",
    "        sequence_stride=1,\n",
    "        shuffle=True,\n",
    "        batch_size=32,)\n",
    "    ds = ds.map(self.split_window)\n",
    "    \n",
    "    \n",
    "    return ds\n",
    "    \n",
    "\n",
    "WindowGenerator.make_dataset = make_dataset"
   ]
  },
  {
   "cell_type": "markdown",
   "id": "c2f8ae86-5b35-4b8b-a252-2da63b4e79e5",
   "metadata": {},
   "source": [
    "The WindowGenerator object holds training, validation, and test data.\n",
    "\n",
    "Add properties for accessing them as tf.data.Datasets using the make_dataset method you defined earlier. Also, add a standard example batch for easy access and plotting"
   ]
  },
  {
   "cell_type": "code",
   "execution_count": 100,
   "id": "9fe9ad40-6357-4bad-b61a-fbe6ea9f58b9",
   "metadata": {},
   "outputs": [],
   "source": [
    "@property\n",
    "def train(self):\n",
    "    return self.make_dataset(self.train_df)\n",
    "\n",
    "@property\n",
    "def val(self):\n",
    "    return self.make_dataset(self.val_df)\n",
    "\n",
    "@property\n",
    "def test(self):\n",
    "    return self.make_dataset(self.test_df)\n",
    "\n",
    "@property\n",
    "def example(self):\n",
    "    \"\"\"Get and cache an example batch of `inputs, labels` for plotting.\"\"\"\n",
    "    result = getattr(self, '_example', None)\n",
    "    if result is None:\n",
    "        #No example of batch was found, so get one from the '.train' dataset\n",
    "        result = next(iter(self.train))\n",
    "        #and cache it for next time\n",
    "        self._example = result\n",
    "    return result\n",
    "\n",
    "WindowGenerator.train = train\n",
    "WindowGenerator.val = val\n",
    "WindowGenerator.test = test\n",
    "WindowGenerator.example = example"
   ]
  },
  {
   "cell_type": "markdown",
   "id": "e1b9c1a6-7d5a-45ce-8859-ceb085b0534e",
   "metadata": {},
   "source": [
    "Now, the WindowGenerator object gives you access to the tf.data.Dataset objects, so you can easily iterate over the data.\n",
    "\n",
    "The Dataset.element_spec property tells you the structure, data types, and shapes of the dataset elements."
   ]
  },
  {
   "cell_type": "code",
   "execution_count": 101,
   "id": "3696f7f3-adb5-48ef-a244-429e8fcb80d7",
   "metadata": {},
   "outputs": [
    {
     "data": {
      "text/plain": [
       "(TensorSpec(shape=(None, 24, 1), dtype=tf.float32, name=None),\n",
       " TensorSpec(shape=(None, 1, 1), dtype=tf.float32, name=None))"
      ]
     },
     "execution_count": 101,
     "metadata": {},
     "output_type": "execute_result"
    }
   ],
   "source": [
    "#each element is an input (inputs, label) pair\n",
    "w1.train.element_spec"
   ]
  },
  {
   "cell_type": "code",
   "execution_count": 102,
   "id": "1318b474-1149-4ecf-9aca-372129ef351a",
   "metadata": {},
   "outputs": [
    {
     "name": "stdout",
     "output_type": "stream",
     "text": [
      "Inputs shape (batch, time, features): (32, 24, 1)\n",
      "Labels shape (batch, time, features): (32, 1, 1)\n"
     ]
    }
   ],
   "source": [
    "#Iterating over a Dataset yields concrete batches\n",
    "for example_inputs, example_labels in w1.train.take(1):\n",
    "    print(f'Inputs shape (batch, time, features): {example_inputs.shape}')\n",
    "    print(f'Labels shape (batch, time, features): {example_labels.shape}')"
   ]
  },
  {
   "cell_type": "markdown",
   "id": "7c089f24-12b3-49c4-bd5c-0629751da894",
   "metadata": {},
   "source": [
    "The simplest model you can build on this sort of data is one that predicts a single feature's value—1 time step (one hour) into the future based only on the current conditions."
   ]
  },
  {
   "cell_type": "code",
   "execution_count": 103,
   "id": "bb8aecad-ed54-42ff-80a7-d82b100ef581",
   "metadata": {},
   "outputs": [
    {
     "data": {
      "text/plain": [
       "Total window size: 2\n",
       "Input Indices: [0]\n",
       "Label Indices: [1]\n",
       "Label Column name(s): ['spaces']"
      ]
     },
     "execution_count": 103,
     "metadata": {},
     "output_type": "execute_result"
    }
   ],
   "source": [
    "single_step_window = WindowGenerator(\n",
    "    input_width=1, label_width=1, shift=1,\n",
    "    label_columns=['spaces'])\n",
    "single_step_window"
   ]
  },
  {
   "cell_type": "code",
   "execution_count": 104,
   "id": "697ae863-2139-4f6a-8142-68cda2736e06",
   "metadata": {},
   "outputs": [
    {
     "name": "stdout",
     "output_type": "stream",
     "text": [
      "Inputs shape (batch, time, features): (32, 1, 1)\n",
      "Labels shape (batch, time, features): (32, 1, 1)\n"
     ]
    }
   ],
   "source": [
    "for example_inputs, example_labels in single_step_window.train.take(1):\n",
    "    print(f'Inputs shape (batch, time, features): {example_inputs.shape}')\n",
    "    print(f'Labels shape (batch, time, features): {example_labels.shape}')"
   ]
  },
  {
   "cell_type": "markdown",
   "id": "8b928fe7-5177-4d67-adb4-db9f93791a08",
   "metadata": {},
   "source": [
    "Before building a trainable model it would be good to have a performance baseline as a point for comparison with the later more complicated models. The first task is to predict parking availability 1 hour into the future, given the currrent values of all features. the current values include spaces"
   ]
  },
  {
   "cell_type": "code",
   "execution_count": 105,
   "id": "cbb49622-6248-4bf8-9df2-08bd51ed71ef",
   "metadata": {},
   "outputs": [],
   "source": [
    "#Baseline model\n",
    "class Baseline(tf.keras.Model):\n",
    "    def __init__(self, label_index=None):\n",
    "        super().__init__()\n",
    "        self.label_index = label_index\n",
    "    \n",
    "    def call(self, inputs):\n",
    "        if self.label_index is None:\n",
    "            return inputs\n",
    "        result = inputs[:, :, self.label_index]\n",
    "        return result[:, :, tf.newaxis]"
   ]
  },
  {
   "cell_type": "code",
   "execution_count": 106,
   "id": "db394cf8-9d97-4d3d-8e8b-4b960c158751",
   "metadata": {},
   "outputs": [
    {
     "name": "stdout",
     "output_type": "stream",
     "text": [
      "34/34 [==============================] - 0s 901us/step - loss: 0.0126 - mean_absolute_error: 0.0071  \n"
     ]
    }
   ],
   "source": [
    "#instantiate and evaluate model\n",
    "baseline = Baseline(label_index=column_indices['spaces'])\n",
    "\n",
    "baseline.compile(loss=tf.keras.losses.MeanSquaredError(),\n",
    "                 metrics=[tf.keras.metrics.MeanAbsoluteError()])\n",
    "\n",
    "val_performance = {}\n",
    "performance = {}\n",
    "val_performance['Baseline'] = baseline.evaluate(single_step_window.val)\n",
    "performance['Baseline'] = baseline.evaluate(single_step_window.test, verbose=0)"
   ]
  },
  {
   "cell_type": "markdown",
   "id": "c4aec66d-46b7-4119-957a-71aef79658f0",
   "metadata": {},
   "source": [
    "So, create a wider WindowGenerator that generates windows 24 hours of consecutive inputs and labels at a time. The new wide_window variable doesn't change the way the model operates. The model still makes predictions one hour into the future based on a single input time step. Here, the time axis acts like the batch axis: each prediction is made independently with no interaction between time steps"
   ]
  },
  {
   "cell_type": "code",
   "execution_count": 107,
   "id": "c1069e8e-9491-451e-b122-b45d27b439e4",
   "metadata": {},
   "outputs": [
    {
     "data": {
      "text/plain": [
       "Total window size: 25\n",
       "Input Indices: [ 0  1  2  3  4  5  6  7  8  9 10 11 12 13 14 15 16 17 18 19 20 21 22 23]\n",
       "Label Indices: [ 1  2  3  4  5  6  7  8  9 10 11 12 13 14 15 16 17 18 19 20 21 22 23 24]\n",
       "Label Column name(s): ['spaces']"
      ]
     },
     "execution_count": 107,
     "metadata": {},
     "output_type": "execute_result"
    }
   ],
   "source": [
    "wide_window = WindowGenerator(\n",
    "    input_width=24, label_width=24, shift=1,\n",
    "    label_columns=['spaces'])\n",
    "\n",
    "wide_window"
   ]
  },
  {
   "cell_type": "code",
   "execution_count": 108,
   "id": "eab50606-0a5f-471f-ab14-33a73185e456",
   "metadata": {},
   "outputs": [],
   "source": [
    "MAX_EPOCHS = 20\n",
    "\n",
    "def compile_and_fit(model, window, patience=2):\n",
    "    early_stopping = tf.keras.callbacks.EarlyStopping(monitor='val_loss',\n",
    "                                                      patience=patience,\n",
    "                                                      mode='min')\n",
    "    model.compile(loss=tf.keras.losses.MeanSquaredError(),\n",
    "                  optimizer=tf.keras.optimizers.Adam(),\n",
    "                  metrics=[tf.keras.metrics.MeanAbsoluteError()])\n",
    "\n",
    "    history = model.fit(window.train, epochs=MAX_EPOCHS,\n",
    "                        validation_data=window.val,\n",
    "                        callbacks=[early_stopping])\n",
    "    return history"
   ]
  },
  {
   "cell_type": "markdown",
   "id": "d201634f-e64d-4def-94d9-4ef50b2cfa3e",
   "metadata": {},
   "source": [
    "A Recurrent Neural Network (RNN) is a type of neural network well-suited to time series data. RNNs process a time series step-by-step, maintaining an internal state from time-step to time-step"
   ]
  },
  {
   "cell_type": "code",
   "execution_count": 109,
   "id": "9e332376-0a3a-4566-96c6-f05b227269d7",
   "metadata": {},
   "outputs": [],
   "source": [
    "#recurrent model\n",
    "lstm_model = tf.keras.models.Sequential([\n",
    "    # Shape [batch, time, features] => [batch, time, lstm_units]\n",
    "    tf.keras.layers.LSTM(32, return_sequences=True),\n",
    "    # Shape => [batch, time, features]\n",
    "    tf.keras.layers.Dense(units=1)\n",
    "])"
   ]
  },
  {
   "cell_type": "code",
   "execution_count": 110,
   "id": "3935a304-4eb6-4e11-975a-27775b500fad",
   "metadata": {},
   "outputs": [
    {
     "name": "stdout",
     "output_type": "stream",
     "text": [
      "Epoch 1/20\n",
      "117/117 [==============================] - 3s 10ms/step - loss: 0.1701 - mean_absolute_error: 0.1936 - val_loss: 0.0954 - val_mean_absolute_error: 0.1850\n",
      "Epoch 2/20\n",
      "117/117 [==============================] - 1s 7ms/step - loss: 0.0497 - mean_absolute_error: 0.0820 - val_loss: 0.0647 - val_mean_absolute_error: 0.1423\n",
      "Epoch 3/20\n",
      "117/117 [==============================] - 1s 8ms/step - loss: 0.0328 - mean_absolute_error: 0.0604 - val_loss: 0.0482 - val_mean_absolute_error: 0.1145\n",
      "Epoch 4/20\n",
      "117/117 [==============================] - 1s 7ms/step - loss: 0.0234 - mean_absolute_error: 0.0452 - val_loss: 0.0376 - val_mean_absolute_error: 0.0917\n",
      "Epoch 5/20\n",
      "117/117 [==============================] - 1s 7ms/step - loss: 0.0174 - mean_absolute_error: 0.0356 - val_loss: 0.0307 - val_mean_absolute_error: 0.0737\n",
      "Epoch 6/20\n",
      "117/117 [==============================] - 1s 7ms/step - loss: 0.0132 - mean_absolute_error: 0.0294 - val_loss: 0.0265 - val_mean_absolute_error: 0.0608\n",
      "Epoch 7/20\n",
      "117/117 [==============================] - 1s 7ms/step - loss: 0.0103 - mean_absolute_error: 0.0255 - val_loss: 0.0238 - val_mean_absolute_error: 0.0524\n",
      "Epoch 8/20\n",
      "117/117 [==============================] - 1s 7ms/step - loss: 0.0081 - mean_absolute_error: 0.0218 - val_loss: 0.0220 - val_mean_absolute_error: 0.0489\n",
      "Epoch 9/20\n",
      "117/117 [==============================] - 1s 8ms/step - loss: 0.0066 - mean_absolute_error: 0.0181 - val_loss: 0.0205 - val_mean_absolute_error: 0.0441\n",
      "Epoch 10/20\n",
      "117/117 [==============================] - 1s 8ms/step - loss: 0.0055 - mean_absolute_error: 0.0154 - val_loss: 0.0193 - val_mean_absolute_error: 0.0387\n",
      "Epoch 11/20\n",
      "117/117 [==============================] - 1s 7ms/step - loss: 0.0049 - mean_absolute_error: 0.0131 - val_loss: 0.0186 - val_mean_absolute_error: 0.0393\n",
      "Epoch 12/20\n",
      "117/117 [==============================] - 1s 7ms/step - loss: 0.0046 - mean_absolute_error: 0.0118 - val_loss: 0.0181 - val_mean_absolute_error: 0.0365\n",
      "Epoch 13/20\n",
      "117/117 [==============================] - 1s 7ms/step - loss: 0.0044 - mean_absolute_error: 0.0108 - val_loss: 0.0178 - val_mean_absolute_error: 0.0373\n",
      "Epoch 14/20\n",
      "117/117 [==============================] - 1s 7ms/step - loss: 0.0044 - mean_absolute_error: 0.0104 - val_loss: 0.0174 - val_mean_absolute_error: 0.0341\n",
      "Epoch 15/20\n",
      "117/117 [==============================] - 1s 7ms/step - loss: 0.0043 - mean_absolute_error: 0.0098 - val_loss: 0.0173 - val_mean_absolute_error: 0.0348\n",
      "Epoch 16/20\n",
      "117/117 [==============================] - 1s 7ms/step - loss: 0.0043 - mean_absolute_error: 0.0092 - val_loss: 0.0171 - val_mean_absolute_error: 0.0338\n",
      "Epoch 17/20\n",
      "117/117 [==============================] - 1s 7ms/step - loss: 0.0043 - mean_absolute_error: 0.0089 - val_loss: 0.0170 - val_mean_absolute_error: 0.0314\n",
      "Epoch 18/20\n",
      "117/117 [==============================] - 1s 7ms/step - loss: 0.0043 - mean_absolute_error: 0.0085 - val_loss: 0.0169 - val_mean_absolute_error: 0.0288\n",
      "Epoch 19/20\n",
      "117/117 [==============================] - 1s 7ms/step - loss: 0.0043 - mean_absolute_error: 0.0092 - val_loss: 0.0168 - val_mean_absolute_error: 0.0278\n",
      "Epoch 20/20\n",
      "117/117 [==============================] - 1s 7ms/step - loss: 0.0043 - mean_absolute_error: 0.0082 - val_loss: 0.0168 - val_mean_absolute_error: 0.0301\n",
      "33/33 [==============================] - 0s 3ms/step - loss: 0.0168 - mean_absolute_error: 0.0301\n"
     ]
    }
   ],
   "source": [
    "history = compile_and_fit(lstm_model, wide_window)\n",
    "\n",
    "val_performance['LSTM'] = lstm_model.evaluate(wide_window.val)\n",
    "performance['LSTM'] = lstm_model.evaluate(wide_window.test, verbose=0)"
   ]
  },
  {
   "cell_type": "code",
   "execution_count": 111,
   "id": "4ced141e-53dc-4264-b221-93010c254060",
   "metadata": {},
   "outputs": [
    {
     "data": {
      "image/png": "[encoded data removed]",
      "text/plain": [
       "<Figure size 864x576 with 3 Axes>"
      ]
     },
     "metadata": {
      "needs_background": "light"
     },
     "output_type": "display_data"
    }
   ],
   "source": [
    "wide_window.plot(lstm_model)"
   ]
  },
  {
   "cell_type": "code",
   "execution_count": null,
   "id": "c17b159b-347c-4e9d-89c5-ad12a3cb26b2",
   "metadata": {},
   "outputs": [],
   "source": []
  }
 ],
 "metadata": {
  "kernelspec": {
   "display_name": "Python 3 (ipykernel)",
   "language": "python",
   "name": "python3"
  },
  "language_info": {
   "codemirror_mode": {
    "name": "ipython",
    "version": 3
   },
   "file_extension": ".py",
   "mimetype": "text/x-python",
   "name": "python",
   "nbconvert_exporter": "python",
   "pygments_lexer": "ipython3",
   "version": "3.9.12"
  }
 },
 "nbformat": 4,
 "nbformat_minor": 5
}
